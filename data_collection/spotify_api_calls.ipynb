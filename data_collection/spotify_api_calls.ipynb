{
 "cells": [
  {
   "cell_type": "code",
   "execution_count": 4,
   "metadata": {},
   "outputs": [],
   "source": [
    "import sys\n",
    "sys.path.append(\"..\")  # Adds the parent directory to the Python path if needed"
   ]
  },
  {
   "cell_type": "code",
   "execution_count": 6,
   "metadata": {},
   "outputs": [],
   "source": [
    "import spotipy\n",
    "from spotipy.oauth2 import SpotifyOAuth\n",
    "import pandas as pd\n"
   ]
  },
  {
   "cell_type": "code",
   "execution_count": 5,
   "metadata": {},
   "outputs": [],
   "source": [
    "from credentials import SPOTIFY_CLIENT_ID, SPOTIFY_CLIENT_SECRET, REDIRECT_URI"
   ]
  },
  {
   "cell_type": "code",
   "execution_count": 16,
   "metadata": {},
   "outputs": [],
   "source": [
    "# Initialize Spotipy with authentication\n",
    "sp = spotipy.Spotify(auth_manager=SpotifyOAuth(\n",
    "    client_id=SPOTIFY_CLIENT_ID,\n",
    "    client_secret=SPOTIFY_CLIENT_SECRET,\n",
    "    redirect_uri=REDIRECT_URI,\n",
    "    scope='playlist-read-private playlist-read-collaborative user-read-private user-read-email'\n",
    "\n",
    "))\n"
   ]
  },
  {
   "cell_type": "code",
   "execution_count": 10,
   "metadata": {},
   "outputs": [],
   "source": [
    "def get_playlist_id_from_url(url):\n",
    "    \"\"\"Extract playlist ID from Spotify URL\"\"\"\n",
    "    if 'open.spotify.com/playlist/' in url:\n",
    "        return url.split('/playlist/')[1].split('?')[0]\n",
    "    return None"
   ]
  },
  {
   "cell_type": "code",
   "execution_count": 11,
   "metadata": {},
   "outputs": [],
   "source": [
    "def get_playlist_tracks(playlist_id):\n",
    "    \"\"\"Get all tracks from a specific playlist\"\"\"\n",
    "    tracks = []\n",
    "    results = sp.playlist_tracks(playlist_id)\n",
    "    while results:\n",
    "        tracks.extend(results['items'])\n",
    "        results = sp.next(results) if results['next'] else None\n",
    "    return tracks\n"
   ]
  },
  {
   "cell_type": "code",
   "execution_count": 12,
   "metadata": {},
   "outputs": [],
   "source": [
    "def get_track_details(track):\n",
    "    \"\"\"Extract relevant details from a track\"\"\"\n",
    "    return {\n",
    "        'track_name': track['track']['name'],\n",
    "        'artist_name': ', '.join([artist['name'] for artist in track['track']['artists']]),\n",
    "        'album_name': track['track']['album']['name'],\n",
    "        'release_date': track['track']['album']['release_date'],\n",
    "        'duration_ms': track['track']['duration_ms'],\n",
    "        'popularity': track['track']['popularity'],\n",
    "        'track_id': track['track']['id'],\n",
    "        'explicit': track['track']['explicit'],\n",
    "        'added_at': track.get('added_at', ''),\n",
    "        'playlist_url': f\"https://open.spotify.com/track/{track['track']['id']}\"\n",
    "    }\n"
   ]
  },
  {
   "cell_type": "code",
   "execution_count": 13,
   "metadata": {},
   "outputs": [],
   "source": [
    "def get_audio_features(track_ids):\n",
    "    \"\"\"Get audio features for multiple tracks\"\"\"\n",
    "    features = []\n",
    "    for i in range(0, len(track_ids), 100):\n",
    "        batch = track_ids[i:i+100]\n",
    "        features.extend(sp.audio_features(batch))\n",
    "    return features"
   ]
  },
  {
   "cell_type": "code",
   "execution_count": 14,
   "metadata": {},
   "outputs": [],
   "source": [
    "def main():\n",
    "    # Get playlist URLs from user\n",
    "    playlist_urls = input(\"Enter Spotify playlist URLs (comma-separated): \").split(',')\n",
    "    \n",
    "    all_tracks = []\n",
    "    for url in playlist_urls:\n",
    "        url = url.strip()\n",
    "        playlist_id = get_playlist_id_from_url(url)\n",
    "        if not playlist_id:\n",
    "            print(f\"Invalid Spotify playlist URL: {url}\")\n",
    "            continue\n",
    "        \n",
    "        try:\n",
    "            playlist = sp.playlist(playlist_id)\n",
    "            print(f\"\\nProcessing playlist: {playlist['name']}\")\n",
    "            \n",
    "            tracks = get_playlist_tracks(playlist_id)\n",
    "            print(f\"Found {len(tracks)} tracks\")\n",
    "            \n",
    "            for track in tracks:\n",
    "                if track['track']:  # Skip unavailable tracks\n",
    "                    all_tracks.append(track)\n",
    "        except Exception as e:\n",
    "            print(f\"Error processing {url}: {str(e)}\")\n",
    "            continue\n",
    "\n",
    "    # Get track details\n",
    "    track_details = [get_track_details(track) for track in all_tracks if track['track']]\n",
    "    track_ids = [td['track_id'] for td in track_details]\n",
    "\n",
    "    # Get audio features\n",
    "    audio_features = get_audio_features(track_ids)\n",
    "    \n",
    "    # Combine data\n",
    "    for td, af in zip(track_details, audio_features):\n",
    "        if af:\n",
    "            td.update({\n",
    "                'danceability': af['danceability'],\n",
    "                'energy': af['energy'],\n",
    "                'key': af['key'],\n",
    "                'loudness': af['loudness'],\n",
    "                'mode': af['mode'],\n",
    "                'speechiness': af['speechiness'],\n",
    "                'acousticness': af['acousticness'],\n",
    "                'instrumentalness': af['instrumentalness'],\n",
    "                'liveness': af['liveness'],\n",
    "                'valence': af['valence'],\n",
    "                'tempo': af['tempo'],\n",
    "                'time_signature': af['time_signature']\n",
    "            })\n",
    "\n",
    "    # Create DataFrame and save to CSV\n",
    "    df = pd.DataFrame(track_details)\n",
    "    df.to_csv('spotify_playlist_data.csv', index=False)\n",
    "    print(f\"\\nExported {len(df)} tracks to spotify_playlist_data.csv\")"
   ]
  },
  {
   "cell_type": "code",
   "execution_count": 17,
   "metadata": {},
   "outputs": [
    {
     "name": "stdout",
     "output_type": "stream",
     "text": [
      "\n",
      "Processing playlist: ICONIC TIKTOK EDIT AUDIOS\n"
     ]
    },
    {
     "name": "stderr",
     "output_type": "stream",
     "text": [
      "HTTP Error for GET to https://api.spotify.com/v1/audio-features/?ids=6l8mgVN9Xf1hiDIFGA6CTE,0R8bei2Q3U688hu4XEwMq3,0lEjxUUlKqjqXrVlIHFduD,7i5dJM7fhHppWwJoAX4bZ3,3ia3dJETSOllPsv3LJkE35,5QysgWndNifZvQ6RSjZVcZ,4StJ0qBDOUtbLGLcFXJCcS,4KZAsdL0PeGvmPbSr0hyG4,5qpXZ45eZA3VX3qe76tmqh,28XDE6yXI6Bp4U3nLSGqzp,3JTjLyrnevl9ASw3ayGO2P,7KA4W4McWYRpgf0fWsJZWB,4T5Y25pWs2pVZVcFIqFuf8,17OqI90oTFZ3J8PVu6j07V,7bn8hQ1PW06VuphijGLJ40,3WMbD1OyfKuwWDWMNbPQ4g,4LrHrb9fZ39fQsMyUdrQXO,5s7m2xNZWgz5FqVSIvJcGA,5udNN5hwk870U9dk7a0nHe,4ixD6bSwnSlzuBrd2c80vI,6WqiXCXs2wb3eEL9TSrgXC,08ljt6NCNAgewQaMya1URa,35mBYyB61qTcGGj7MXIRM1,2obxSEtNEcxUss3EkamUeL,40gk32E7YaTFoQwDIWv2SY,2lnzGkdtDj5mtlcOW2yRtG,63vL5oxWrlvaJ0ayNaQnbX,3RKjTYlQrtLXCq5ncswBPp,5ka2ajep9OAvU5Sgduhiex,2pJmSaPh5lMe4npn0Z6m8A,0yNiaePZow0ycdrmLV0J7y,6cSDNYoWlMxzVfJLn6H301,3AN5LEspFZQdQUFUUqsDct,7lWUJpax919G4JdaFEVmCy,0Hb2KGmwZez23POGBw2Xc2,7lWGmPIhx5lmk0MQj4FizV,4aauSKokYE3lInHTJrf8OW,70WFvp0yF9m1asIb60gKcj,1SAkL1mYNJlaqnBQxVZrRl,5cZqsjVs6MevCnAkasbEOX,4l1R5g85v3bUA1bSSbzg6w,4AFsRbaLKRWo3dDtjDFA2V,4woTEX1wYOTGDqNXuavlRC,41Fflg7qHiVOD6dEPvsCzO,4C6Uex2ILwJi9sZXRdmqXp,2KBYPTSTHjYYOPACrFTkPy,4RvWPyQ5RL0ao9LPZeSouE,4cacyP5c3PMlfnyjpg13xW,2oDqmfa2g8W893LlwJG1qu,6EbIz9W5NirugVL9muoqBQ,2nKZMOEvOyTViP09HxBfXx,11iIikXxC6NP0Ma8vMD27x,448D6btwFKJAFstjlyTNJv,3lPr8ghNDBLc2uZovNyLs9,5Ct0ZQeed0y1SpHukrb38Z,27mMvmKRyrsz7i2cfTMgSQ,04KTF78FFg8sOHC1BADqbY,5BmB3OaQyYXCqRyN8iR2Yi,2QG6sy6xFILDbmLXYTUJGW,4ZYAU4A2YBtlNdqOUtc7T2,1rFSc82CUMlFewowdZPRT8,6DoGtGyDgv5mVxeCpP92tX,4nva9EpKntUTs6CRSGBCn9,1TqmlXyMcCppD8v2OogDMR,4Y7XAxTANhu3lmnLAzhWJW,7seTcUFOhn5caSDbiSfsp0,3Wrjm47oTz2sjIgck11l5e,7MXVkk9YMctZqd1Srtv4MB,7sJN693sYKEIEMu7fc5VnJ,6Zu3aw7FfjAF9WA0fA81Oq,6ic8OlLUNEATToEFU3xmaH,2YpeDb67231RjR0MgVLzsG,3vkQ5DAB1qQMYO4Mr9zJN6,4euAGZTszWPrriggYK0HG9,3SFXsFpeGmBTtQvKiwYMDA,0sF2ifPajaKbzhFFuW11LN,4RADreHMvMkZwsPgPr9z5c,4vrLJML3DDi4kzSslXBUfo,4XHQyvbrBsQaaBUW1VvmsL,3QcWzAQvI41KYheHtvsNoT,1v7eqAcJDu9p4e3iYotJ2y,5u80nUHaBIZYBYw6oMKZsV,6mz1fBdKATx6qP4oP1I65G,1QxcWlk8PivolUaWcpAoNq,4koGF4vd2AV8pF7R3TVBVq,3aw9iWUQ3VrPQltgwvN9Xu,62PTSIy3Y23c4TNeLRnm21,7EAMXbLcL0qXmciM5SwMh2,3MyiuGP39OUPKeJJawOEDA,2IGMVunIBsBLtEQyoI1Mu7,741UUVE2kuITl0c6zuqqbO,4D1k6x4MXTaSnljSvAXhaf,0TcJ7QWpggdSg8t0fHThHm,0dlP9SnqQa5k1A9mReybFb,4tKGFmENO69tZR9ahgZu48,5izX3yhDZHqQFi8p2m6RHi,4wH4dJgrsxONID6KS2tDQM,51NYFGDXYKS4FkRqkw98hx,4Xtlw8oXkIOvzV7crUBKeZ,0ByMNEPAPpOR5H69DVrTNy with Params: {} returned 403 due to None\n"
     ]
    },
    {
     "name": "stdout",
     "output_type": "stream",
     "text": [
      "Found 127 tracks\n"
     ]
    },
    {
     "ename": "SpotifyException",
     "evalue": "http status: 403, code:-1 - https://api.spotify.com/v1/audio-features/?ids=6l8mgVN9Xf1hiDIFGA6CTE,0R8bei2Q3U688hu4XEwMq3,0lEjxUUlKqjqXrVlIHFduD,7i5dJM7fhHppWwJoAX4bZ3,3ia3dJETSOllPsv3LJkE35,5QysgWndNifZvQ6RSjZVcZ,4StJ0qBDOUtbLGLcFXJCcS,4KZAsdL0PeGvmPbSr0hyG4,5qpXZ45eZA3VX3qe76tmqh,28XDE6yXI6Bp4U3nLSGqzp,3JTjLyrnevl9ASw3ayGO2P,7KA4W4McWYRpgf0fWsJZWB,4T5Y25pWs2pVZVcFIqFuf8,17OqI90oTFZ3J8PVu6j07V,7bn8hQ1PW06VuphijGLJ40,3WMbD1OyfKuwWDWMNbPQ4g,4LrHrb9fZ39fQsMyUdrQXO,5s7m2xNZWgz5FqVSIvJcGA,5udNN5hwk870U9dk7a0nHe,4ixD6bSwnSlzuBrd2c80vI,6WqiXCXs2wb3eEL9TSrgXC,08ljt6NCNAgewQaMya1URa,35mBYyB61qTcGGj7MXIRM1,2obxSEtNEcxUss3EkamUeL,40gk32E7YaTFoQwDIWv2SY,2lnzGkdtDj5mtlcOW2yRtG,63vL5oxWrlvaJ0ayNaQnbX,3RKjTYlQrtLXCq5ncswBPp,5ka2ajep9OAvU5Sgduhiex,2pJmSaPh5lMe4npn0Z6m8A,0yNiaePZow0ycdrmLV0J7y,6cSDNYoWlMxzVfJLn6H301,3AN5LEspFZQdQUFUUqsDct,7lWUJpax919G4JdaFEVmCy,0Hb2KGmwZez23POGBw2Xc2,7lWGmPIhx5lmk0MQj4FizV,4aauSKokYE3lInHTJrf8OW,70WFvp0yF9m1asIb60gKcj,1SAkL1mYNJlaqnBQxVZrRl,5cZqsjVs6MevCnAkasbEOX,4l1R5g85v3bUA1bSSbzg6w,4AFsRbaLKRWo3dDtjDFA2V,4woTEX1wYOTGDqNXuavlRC,41Fflg7qHiVOD6dEPvsCzO,4C6Uex2ILwJi9sZXRdmqXp,2KBYPTSTHjYYOPACrFTkPy,4RvWPyQ5RL0ao9LPZeSouE,4cacyP5c3PMlfnyjpg13xW,2oDqmfa2g8W893LlwJG1qu,6EbIz9W5NirugVL9muoqBQ,2nKZMOEvOyTViP09HxBfXx,11iIikXxC6NP0Ma8vMD27x,448D6btwFKJAFstjlyTNJv,3lPr8ghNDBLc2uZovNyLs9,5Ct0ZQeed0y1SpHukrb38Z,27mMvmKRyrsz7i2cfTMgSQ,04KTF78FFg8sOHC1BADqbY,5BmB3OaQyYXCqRyN8iR2Yi,2QG6sy6xFILDbmLXYTUJGW,4ZYAU4A2YBtlNdqOUtc7T2,1rFSc82CUMlFewowdZPRT8,6DoGtGyDgv5mVxeCpP92tX,4nva9EpKntUTs6CRSGBCn9,1TqmlXyMcCppD8v2OogDMR,4Y7XAxTANhu3lmnLAzhWJW,7seTcUFOhn5caSDbiSfsp0,3Wrjm47oTz2sjIgck11l5e,7MXVkk9YMctZqd1Srtv4MB,7sJN693sYKEIEMu7fc5VnJ,6Zu3aw7FfjAF9WA0fA81Oq,6ic8OlLUNEATToEFU3xmaH,2YpeDb67231RjR0MgVLzsG,3vkQ5DAB1qQMYO4Mr9zJN6,4euAGZTszWPrriggYK0HG9,3SFXsFpeGmBTtQvKiwYMDA,0sF2ifPajaKbzhFFuW11LN,4RADreHMvMkZwsPgPr9z5c,4vrLJML3DDi4kzSslXBUfo,4XHQyvbrBsQaaBUW1VvmsL,3QcWzAQvI41KYheHtvsNoT,1v7eqAcJDu9p4e3iYotJ2y,5u80nUHaBIZYBYw6oMKZsV,6mz1fBdKATx6qP4oP1I65G,1QxcWlk8PivolUaWcpAoNq,4koGF4vd2AV8pF7R3TVBVq,3aw9iWUQ3VrPQltgwvN9Xu,62PTSIy3Y23c4TNeLRnm21,7EAMXbLcL0qXmciM5SwMh2,3MyiuGP39OUPKeJJawOEDA,2IGMVunIBsBLtEQyoI1Mu7,741UUVE2kuITl0c6zuqqbO,4D1k6x4MXTaSnljSvAXhaf,0TcJ7QWpggdSg8t0fHThHm,0dlP9SnqQa5k1A9mReybFb,4tKGFmENO69tZR9ahgZu48,5izX3yhDZHqQFi8p2m6RHi,4wH4dJgrsxONID6KS2tDQM,51NYFGDXYKS4FkRqkw98hx,4Xtlw8oXkIOvzV7crUBKeZ,0ByMNEPAPpOR5H69DVrTNy:\n None, reason: None",
     "output_type": "error",
     "traceback": [
      "\u001b[0;31m---------------------------------------------------------------------------\u001b[0m",
      "\u001b[0;31mHTTPError\u001b[0m                                 Traceback (most recent call last)",
      "File \u001b[0;32m~/opt/anaconda3/envs/capstone/lib/python3.13/site-packages/spotipy/client.py:275\u001b[0m, in \u001b[0;36mSpotify._internal_call\u001b[0;34m(self, method, url, payload, params)\u001b[0m\n\u001b[1;32m    270\u001b[0m response \u001b[38;5;241m=\u001b[39m \u001b[38;5;28mself\u001b[39m\u001b[38;5;241m.\u001b[39m_session\u001b[38;5;241m.\u001b[39mrequest(\n\u001b[1;32m    271\u001b[0m     method, url, headers\u001b[38;5;241m=\u001b[39mheaders, proxies\u001b[38;5;241m=\u001b[39m\u001b[38;5;28mself\u001b[39m\u001b[38;5;241m.\u001b[39mproxies,\n\u001b[1;32m    272\u001b[0m     timeout\u001b[38;5;241m=\u001b[39m\u001b[38;5;28mself\u001b[39m\u001b[38;5;241m.\u001b[39mrequests_timeout, \u001b[38;5;241m*\u001b[39m\u001b[38;5;241m*\u001b[39margs\n\u001b[1;32m    273\u001b[0m )\n\u001b[0;32m--> 275\u001b[0m \u001b[43mresponse\u001b[49m\u001b[38;5;241;43m.\u001b[39;49m\u001b[43mraise_for_status\u001b[49m\u001b[43m(\u001b[49m\u001b[43m)\u001b[49m\n\u001b[1;32m    276\u001b[0m results \u001b[38;5;241m=\u001b[39m response\u001b[38;5;241m.\u001b[39mjson()\n",
      "File \u001b[0;32m~/opt/anaconda3/envs/capstone/lib/python3.13/site-packages/requests/models.py:1024\u001b[0m, in \u001b[0;36mResponse.raise_for_status\u001b[0;34m(self)\u001b[0m\n\u001b[1;32m   1023\u001b[0m \u001b[38;5;28;01mif\u001b[39;00m http_error_msg:\n\u001b[0;32m-> 1024\u001b[0m     \u001b[38;5;28;01mraise\u001b[39;00m HTTPError(http_error_msg, response\u001b[38;5;241m=\u001b[39m\u001b[38;5;28mself\u001b[39m)\n",
      "\u001b[0;31mHTTPError\u001b[0m: 403 Client Error: Forbidden for url: https://api.spotify.com/v1/audio-features/?ids=6l8mgVN9Xf1hiDIFGA6CTE,0R8bei2Q3U688hu4XEwMq3,0lEjxUUlKqjqXrVlIHFduD,7i5dJM7fhHppWwJoAX4bZ3,3ia3dJETSOllPsv3LJkE35,5QysgWndNifZvQ6RSjZVcZ,4StJ0qBDOUtbLGLcFXJCcS,4KZAsdL0PeGvmPbSr0hyG4,5qpXZ45eZA3VX3qe76tmqh,28XDE6yXI6Bp4U3nLSGqzp,3JTjLyrnevl9ASw3ayGO2P,7KA4W4McWYRpgf0fWsJZWB,4T5Y25pWs2pVZVcFIqFuf8,17OqI90oTFZ3J8PVu6j07V,7bn8hQ1PW06VuphijGLJ40,3WMbD1OyfKuwWDWMNbPQ4g,4LrHrb9fZ39fQsMyUdrQXO,5s7m2xNZWgz5FqVSIvJcGA,5udNN5hwk870U9dk7a0nHe,4ixD6bSwnSlzuBrd2c80vI,6WqiXCXs2wb3eEL9TSrgXC,08ljt6NCNAgewQaMya1URa,35mBYyB61qTcGGj7MXIRM1,2obxSEtNEcxUss3EkamUeL,40gk32E7YaTFoQwDIWv2SY,2lnzGkdtDj5mtlcOW2yRtG,63vL5oxWrlvaJ0ayNaQnbX,3RKjTYlQrtLXCq5ncswBPp,5ka2ajep9OAvU5Sgduhiex,2pJmSaPh5lMe4npn0Z6m8A,0yNiaePZow0ycdrmLV0J7y,6cSDNYoWlMxzVfJLn6H301,3AN5LEspFZQdQUFUUqsDct,7lWUJpax919G4JdaFEVmCy,0Hb2KGmwZez23POGBw2Xc2,7lWGmPIhx5lmk0MQj4FizV,4aauSKokYE3lInHTJrf8OW,70WFvp0yF9m1asIb60gKcj,1SAkL1mYNJlaqnBQxVZrRl,5cZqsjVs6MevCnAkasbEOX,4l1R5g85v3bUA1bSSbzg6w,4AFsRbaLKRWo3dDtjDFA2V,4woTEX1wYOTGDqNXuavlRC,41Fflg7qHiVOD6dEPvsCzO,4C6Uex2ILwJi9sZXRdmqXp,2KBYPTSTHjYYOPACrFTkPy,4RvWPyQ5RL0ao9LPZeSouE,4cacyP5c3PMlfnyjpg13xW,2oDqmfa2g8W893LlwJG1qu,6EbIz9W5NirugVL9muoqBQ,2nKZMOEvOyTViP09HxBfXx,11iIikXxC6NP0Ma8vMD27x,448D6btwFKJAFstjlyTNJv,3lPr8ghNDBLc2uZovNyLs9,5Ct0ZQeed0y1SpHukrb38Z,27mMvmKRyrsz7i2cfTMgSQ,04KTF78FFg8sOHC1BADqbY,5BmB3OaQyYXCqRyN8iR2Yi,2QG6sy6xFILDbmLXYTUJGW,4ZYAU4A2YBtlNdqOUtc7T2,1rFSc82CUMlFewowdZPRT8,6DoGtGyDgv5mVxeCpP92tX,4nva9EpKntUTs6CRSGBCn9,1TqmlXyMcCppD8v2OogDMR,4Y7XAxTANhu3lmnLAzhWJW,7seTcUFOhn5caSDbiSfsp0,3Wrjm47oTz2sjIgck11l5e,7MXVkk9YMctZqd1Srtv4MB,7sJN693sYKEIEMu7fc5VnJ,6Zu3aw7FfjAF9WA0fA81Oq,6ic8OlLUNEATToEFU3xmaH,2YpeDb67231RjR0MgVLzsG,3vkQ5DAB1qQMYO4Mr9zJN6,4euAGZTszWPrriggYK0HG9,3SFXsFpeGmBTtQvKiwYMDA,0sF2ifPajaKbzhFFuW11LN,4RADreHMvMkZwsPgPr9z5c,4vrLJML3DDi4kzSslXBUfo,4XHQyvbrBsQaaBUW1VvmsL,3QcWzAQvI41KYheHtvsNoT,1v7eqAcJDu9p4e3iYotJ2y,5u80nUHaBIZYBYw6oMKZsV,6mz1fBdKATx6qP4oP1I65G,1QxcWlk8PivolUaWcpAoNq,4koGF4vd2AV8pF7R3TVBVq,3aw9iWUQ3VrPQltgwvN9Xu,62PTSIy3Y23c4TNeLRnm21,7EAMXbLcL0qXmciM5SwMh2,3MyiuGP39OUPKeJJawOEDA,2IGMVunIBsBLtEQyoI1Mu7,741UUVE2kuITl0c6zuqqbO,4D1k6x4MXTaSnljSvAXhaf,0TcJ7QWpggdSg8t0fHThHm,0dlP9SnqQa5k1A9mReybFb,4tKGFmENO69tZR9ahgZu48,5izX3yhDZHqQFi8p2m6RHi,4wH4dJgrsxONID6KS2tDQM,51NYFGDXYKS4FkRqkw98hx,4Xtlw8oXkIOvzV7crUBKeZ,0ByMNEPAPpOR5H69DVrTNy",
      "\nDuring handling of the above exception, another exception occurred:\n",
      "\u001b[0;31mSpotifyException\u001b[0m                          Traceback (most recent call last)",
      "Cell \u001b[0;32mIn[17], line 2\u001b[0m\n\u001b[1;32m      1\u001b[0m \u001b[38;5;28;01mif\u001b[39;00m \u001b[38;5;18m__name__\u001b[39m \u001b[38;5;241m==\u001b[39m \u001b[38;5;124m'\u001b[39m\u001b[38;5;124m__main__\u001b[39m\u001b[38;5;124m'\u001b[39m:\n\u001b[0;32m----> 2\u001b[0m     \u001b[43mmain\u001b[49m\u001b[43m(\u001b[49m\u001b[43m)\u001b[49m\n",
      "Cell \u001b[0;32mIn[14], line 32\u001b[0m, in \u001b[0;36mmain\u001b[0;34m()\u001b[0m\n\u001b[1;32m     29\u001b[0m track_ids \u001b[38;5;241m=\u001b[39m [td[\u001b[38;5;124m'\u001b[39m\u001b[38;5;124mtrack_id\u001b[39m\u001b[38;5;124m'\u001b[39m] \u001b[38;5;28;01mfor\u001b[39;00m td \u001b[38;5;129;01min\u001b[39;00m track_details]\n\u001b[1;32m     31\u001b[0m \u001b[38;5;66;03m# Get audio features\u001b[39;00m\n\u001b[0;32m---> 32\u001b[0m audio_features \u001b[38;5;241m=\u001b[39m \u001b[43mget_audio_features\u001b[49m\u001b[43m(\u001b[49m\u001b[43mtrack_ids\u001b[49m\u001b[43m)\u001b[49m\n\u001b[1;32m     34\u001b[0m \u001b[38;5;66;03m# Combine data\u001b[39;00m\n\u001b[1;32m     35\u001b[0m \u001b[38;5;28;01mfor\u001b[39;00m td, af \u001b[38;5;129;01min\u001b[39;00m \u001b[38;5;28mzip\u001b[39m(track_details, audio_features):\n",
      "Cell \u001b[0;32mIn[13], line 6\u001b[0m, in \u001b[0;36mget_audio_features\u001b[0;34m(track_ids)\u001b[0m\n\u001b[1;32m      4\u001b[0m \u001b[38;5;28;01mfor\u001b[39;00m i \u001b[38;5;129;01min\u001b[39;00m \u001b[38;5;28mrange\u001b[39m(\u001b[38;5;241m0\u001b[39m, \u001b[38;5;28mlen\u001b[39m(track_ids), \u001b[38;5;241m100\u001b[39m):\n\u001b[1;32m      5\u001b[0m     batch \u001b[38;5;241m=\u001b[39m track_ids[i:i\u001b[38;5;241m+\u001b[39m\u001b[38;5;241m100\u001b[39m]\n\u001b[0;32m----> 6\u001b[0m     features\u001b[38;5;241m.\u001b[39mextend(\u001b[43msp\u001b[49m\u001b[38;5;241;43m.\u001b[39;49m\u001b[43maudio_features\u001b[49m\u001b[43m(\u001b[49m\u001b[43mbatch\u001b[49m\u001b[43m)\u001b[49m)\n\u001b[1;32m      7\u001b[0m \u001b[38;5;28;01mreturn\u001b[39;00m features\n",
      "File \u001b[0;32m~/opt/anaconda3/envs/capstone/lib/python3.13/site-packages/spotipy/client.py:1802\u001b[0m, in \u001b[0;36mSpotify.audio_features\u001b[0;34m(self, tracks)\u001b[0m\n\u001b[1;32m   1800\u001b[0m \u001b[38;5;28;01melse\u001b[39;00m:\n\u001b[1;32m   1801\u001b[0m     tlist \u001b[38;5;241m=\u001b[39m [\u001b[38;5;28mself\u001b[39m\u001b[38;5;241m.\u001b[39m_get_id(\u001b[38;5;124m\"\u001b[39m\u001b[38;5;124mtrack\u001b[39m\u001b[38;5;124m\"\u001b[39m, t) \u001b[38;5;28;01mfor\u001b[39;00m t \u001b[38;5;129;01min\u001b[39;00m tracks]\n\u001b[0;32m-> 1802\u001b[0m     results \u001b[38;5;241m=\u001b[39m \u001b[38;5;28;43mself\u001b[39;49m\u001b[38;5;241;43m.\u001b[39;49m\u001b[43m_get\u001b[49m\u001b[43m(\u001b[49m\u001b[38;5;124;43m\"\u001b[39;49m\u001b[38;5;124;43maudio-features/?ids=\u001b[39;49m\u001b[38;5;124;43m\"\u001b[39;49m\u001b[43m \u001b[49m\u001b[38;5;241;43m+\u001b[39;49m\u001b[43m \u001b[49m\u001b[38;5;124;43m\"\u001b[39;49m\u001b[38;5;124;43m,\u001b[39;49m\u001b[38;5;124;43m\"\u001b[39;49m\u001b[38;5;241;43m.\u001b[39;49m\u001b[43mjoin\u001b[49m\u001b[43m(\u001b[49m\u001b[43mtlist\u001b[49m\u001b[43m)\u001b[49m\u001b[43m)\u001b[49m\n\u001b[1;32m   1803\u001b[0m \u001b[38;5;66;03m# the response has changed, look for the new style first, and if\u001b[39;00m\n\u001b[1;32m   1804\u001b[0m \u001b[38;5;66;03m# it's not there, fallback on the old style\u001b[39;00m\n\u001b[1;32m   1805\u001b[0m \u001b[38;5;28;01mif\u001b[39;00m \u001b[38;5;124m\"\u001b[39m\u001b[38;5;124maudio_features\u001b[39m\u001b[38;5;124m\"\u001b[39m \u001b[38;5;129;01min\u001b[39;00m results:\n",
      "File \u001b[0;32m~/opt/anaconda3/envs/capstone/lib/python3.13/site-packages/spotipy/client.py:327\u001b[0m, in \u001b[0;36mSpotify._get\u001b[0;34m(self, url, args, payload, **kwargs)\u001b[0m\n\u001b[1;32m    324\u001b[0m \u001b[38;5;28;01mif\u001b[39;00m args:\n\u001b[1;32m    325\u001b[0m     kwargs\u001b[38;5;241m.\u001b[39mupdate(args)\n\u001b[0;32m--> 327\u001b[0m \u001b[38;5;28;01mreturn\u001b[39;00m \u001b[38;5;28;43mself\u001b[39;49m\u001b[38;5;241;43m.\u001b[39;49m\u001b[43m_internal_call\u001b[49m\u001b[43m(\u001b[49m\u001b[38;5;124;43m\"\u001b[39;49m\u001b[38;5;124;43mGET\u001b[39;49m\u001b[38;5;124;43m\"\u001b[39;49m\u001b[43m,\u001b[49m\u001b[43m \u001b[49m\u001b[43murl\u001b[49m\u001b[43m,\u001b[49m\u001b[43m \u001b[49m\u001b[43mpayload\u001b[49m\u001b[43m,\u001b[49m\u001b[43m \u001b[49m\u001b[43mkwargs\u001b[49m\u001b[43m)\u001b[49m\n",
      "File \u001b[0;32m~/opt/anaconda3/envs/capstone/lib/python3.13/site-packages/spotipy/client.py:297\u001b[0m, in \u001b[0;36mSpotify._internal_call\u001b[0;34m(self, method, url, payload, params)\u001b[0m\n\u001b[1;32m    290\u001b[0m         reason \u001b[38;5;241m=\u001b[39m \u001b[38;5;28;01mNone\u001b[39;00m\n\u001b[1;32m    292\u001b[0m     logger\u001b[38;5;241m.\u001b[39merror(\n\u001b[1;32m    293\u001b[0m         \u001b[38;5;124m'\u001b[39m\u001b[38;5;124mHTTP Error for \u001b[39m\u001b[38;5;132;01m%s\u001b[39;00m\u001b[38;5;124m to \u001b[39m\u001b[38;5;132;01m%s\u001b[39;00m\u001b[38;5;124m with Params: \u001b[39m\u001b[38;5;132;01m%s\u001b[39;00m\u001b[38;5;124m returned \u001b[39m\u001b[38;5;132;01m%s\u001b[39;00m\u001b[38;5;124m due to \u001b[39m\u001b[38;5;132;01m%s\u001b[39;00m\u001b[38;5;124m'\u001b[39m,\n\u001b[1;32m    294\u001b[0m         method, url, args\u001b[38;5;241m.\u001b[39mget(\u001b[38;5;124m\"\u001b[39m\u001b[38;5;124mparams\u001b[39m\u001b[38;5;124m\"\u001b[39m), response\u001b[38;5;241m.\u001b[39mstatus_code, msg\n\u001b[1;32m    295\u001b[0m     )\n\u001b[0;32m--> 297\u001b[0m     \u001b[38;5;28;01mraise\u001b[39;00m SpotifyException(\n\u001b[1;32m    298\u001b[0m         response\u001b[38;5;241m.\u001b[39mstatus_code,\n\u001b[1;32m    299\u001b[0m         \u001b[38;5;241m-\u001b[39m\u001b[38;5;241m1\u001b[39m,\n\u001b[1;32m    300\u001b[0m         \u001b[38;5;124mf\u001b[39m\u001b[38;5;124m\"\u001b[39m\u001b[38;5;132;01m{\u001b[39;00mresponse\u001b[38;5;241m.\u001b[39murl\u001b[38;5;132;01m}\u001b[39;00m\u001b[38;5;124m:\u001b[39m\u001b[38;5;130;01m\\n\u001b[39;00m\u001b[38;5;124m \u001b[39m\u001b[38;5;132;01m{\u001b[39;00mmsg\u001b[38;5;132;01m}\u001b[39;00m\u001b[38;5;124m\"\u001b[39m,\n\u001b[1;32m    301\u001b[0m         reason\u001b[38;5;241m=\u001b[39mreason,\n\u001b[1;32m    302\u001b[0m         headers\u001b[38;5;241m=\u001b[39mresponse\u001b[38;5;241m.\u001b[39mheaders,\n\u001b[1;32m    303\u001b[0m     )\n\u001b[1;32m    304\u001b[0m \u001b[38;5;28;01mexcept\u001b[39;00m requests\u001b[38;5;241m.\u001b[39mexceptions\u001b[38;5;241m.\u001b[39mRetryError \u001b[38;5;28;01mas\u001b[39;00m retry_error:\n\u001b[1;32m    305\u001b[0m     request \u001b[38;5;241m=\u001b[39m retry_error\u001b[38;5;241m.\u001b[39mrequest\n",
      "\u001b[0;31mSpotifyException\u001b[0m: http status: 403, code:-1 - https://api.spotify.com/v1/audio-features/?ids=6l8mgVN9Xf1hiDIFGA6CTE,0R8bei2Q3U688hu4XEwMq3,0lEjxUUlKqjqXrVlIHFduD,7i5dJM7fhHppWwJoAX4bZ3,3ia3dJETSOllPsv3LJkE35,5QysgWndNifZvQ6RSjZVcZ,4StJ0qBDOUtbLGLcFXJCcS,4KZAsdL0PeGvmPbSr0hyG4,5qpXZ45eZA3VX3qe76tmqh,28XDE6yXI6Bp4U3nLSGqzp,3JTjLyrnevl9ASw3ayGO2P,7KA4W4McWYRpgf0fWsJZWB,4T5Y25pWs2pVZVcFIqFuf8,17OqI90oTFZ3J8PVu6j07V,7bn8hQ1PW06VuphijGLJ40,3WMbD1OyfKuwWDWMNbPQ4g,4LrHrb9fZ39fQsMyUdrQXO,5s7m2xNZWgz5FqVSIvJcGA,5udNN5hwk870U9dk7a0nHe,4ixD6bSwnSlzuBrd2c80vI,6WqiXCXs2wb3eEL9TSrgXC,08ljt6NCNAgewQaMya1URa,35mBYyB61qTcGGj7MXIRM1,2obxSEtNEcxUss3EkamUeL,40gk32E7YaTFoQwDIWv2SY,2lnzGkdtDj5mtlcOW2yRtG,63vL5oxWrlvaJ0ayNaQnbX,3RKjTYlQrtLXCq5ncswBPp,5ka2ajep9OAvU5Sgduhiex,2pJmSaPh5lMe4npn0Z6m8A,0yNiaePZow0ycdrmLV0J7y,6cSDNYoWlMxzVfJLn6H301,3AN5LEspFZQdQUFUUqsDct,7lWUJpax919G4JdaFEVmCy,0Hb2KGmwZez23POGBw2Xc2,7lWGmPIhx5lmk0MQj4FizV,4aauSKokYE3lInHTJrf8OW,70WFvp0yF9m1asIb60gKcj,1SAkL1mYNJlaqnBQxVZrRl,5cZqsjVs6MevCnAkasbEOX,4l1R5g85v3bUA1bSSbzg6w,4AFsRbaLKRWo3dDtjDFA2V,4woTEX1wYOTGDqNXuavlRC,41Fflg7qHiVOD6dEPvsCzO,4C6Uex2ILwJi9sZXRdmqXp,2KBYPTSTHjYYOPACrFTkPy,4RvWPyQ5RL0ao9LPZeSouE,4cacyP5c3PMlfnyjpg13xW,2oDqmfa2g8W893LlwJG1qu,6EbIz9W5NirugVL9muoqBQ,2nKZMOEvOyTViP09HxBfXx,11iIikXxC6NP0Ma8vMD27x,448D6btwFKJAFstjlyTNJv,3lPr8ghNDBLc2uZovNyLs9,5Ct0ZQeed0y1SpHukrb38Z,27mMvmKRyrsz7i2cfTMgSQ,04KTF78FFg8sOHC1BADqbY,5BmB3OaQyYXCqRyN8iR2Yi,2QG6sy6xFILDbmLXYTUJGW,4ZYAU4A2YBtlNdqOUtc7T2,1rFSc82CUMlFewowdZPRT8,6DoGtGyDgv5mVxeCpP92tX,4nva9EpKntUTs6CRSGBCn9,1TqmlXyMcCppD8v2OogDMR,4Y7XAxTANhu3lmnLAzhWJW,7seTcUFOhn5caSDbiSfsp0,3Wrjm47oTz2sjIgck11l5e,7MXVkk9YMctZqd1Srtv4MB,7sJN693sYKEIEMu7fc5VnJ,6Zu3aw7FfjAF9WA0fA81Oq,6ic8OlLUNEATToEFU3xmaH,2YpeDb67231RjR0MgVLzsG,3vkQ5DAB1qQMYO4Mr9zJN6,4euAGZTszWPrriggYK0HG9,3SFXsFpeGmBTtQvKiwYMDA,0sF2ifPajaKbzhFFuW11LN,4RADreHMvMkZwsPgPr9z5c,4vrLJML3DDi4kzSslXBUfo,4XHQyvbrBsQaaBUW1VvmsL,3QcWzAQvI41KYheHtvsNoT,1v7eqAcJDu9p4e3iYotJ2y,5u80nUHaBIZYBYw6oMKZsV,6mz1fBdKATx6qP4oP1I65G,1QxcWlk8PivolUaWcpAoNq,4koGF4vd2AV8pF7R3TVBVq,3aw9iWUQ3VrPQltgwvN9Xu,62PTSIy3Y23c4TNeLRnm21,7EAMXbLcL0qXmciM5SwMh2,3MyiuGP39OUPKeJJawOEDA,2IGMVunIBsBLtEQyoI1Mu7,741UUVE2kuITl0c6zuqqbO,4D1k6x4MXTaSnljSvAXhaf,0TcJ7QWpggdSg8t0fHThHm,0dlP9SnqQa5k1A9mReybFb,4tKGFmENO69tZR9ahgZu48,5izX3yhDZHqQFi8p2m6RHi,4wH4dJgrsxONID6KS2tDQM,51NYFGDXYKS4FkRqkw98hx,4Xtlw8oXkIOvzV7crUBKeZ,0ByMNEPAPpOR5H69DVrTNy:\n None, reason: None"
     ]
    }
   ],
   "source": [
    "if __name__ == '__main__':\n",
    "    main()"
   ]
  },
  {
   "cell_type": "code",
   "execution_count": null,
   "metadata": {},
   "outputs": [],
   "source": []
  }
 ],
 "metadata": {
  "kernelspec": {
   "display_name": "capstone",
   "language": "python",
   "name": "python3"
  },
  "language_info": {
   "codemirror_mode": {
    "name": "ipython",
    "version": 3
   },
   "file_extension": ".py",
   "mimetype": "text/x-python",
   "name": "python",
   "nbconvert_exporter": "python",
   "pygments_lexer": "ipython3",
   "version": "3.9.20"
  }
 },
 "nbformat": 4,
 "nbformat_minor": 2
}
