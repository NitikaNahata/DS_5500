{
 "cells": [
  {
   "cell_type": "code",
   "execution_count": 5,
   "metadata": {},
   "outputs": [
    {
     "ename": "SyntaxError",
     "evalue": "invalid syntax (3099998415.py, line 1)",
     "output_type": "error",
     "traceback": [
      "\u001b[0;36m  Cell \u001b[0;32mIn[5], line 1\u001b[0;36m\u001b[0m\n\u001b[0;31m    export REPLICATE_API_TOKEN=r8_5sQ1TQGkDuEnI2GKkrK6x8DmYoXrBEL1pV1t7\u001b[0m\n\u001b[0m           ^\u001b[0m\n\u001b[0;31mSyntaxError\u001b[0m\u001b[0;31m:\u001b[0m invalid syntax\n"
     ]
    }
   ],
   "source": [
    "export REPLICATE_API_TOKEN=r8_5sQ1TQGkDuEnI2GKkrK6x8DmYoXrBEL1pV1t7\n"
   ]
  },
  {
   "cell_type": "markdown",
   "metadata": {},
   "source": []
  },
  {
   "cell_type": "code",
   "execution_count": 4,
   "metadata": {},
   "outputs": [],
   "source": [
    "import replicate"
   ]
  },
  {
   "cell_type": "code",
   "execution_count": 9,
   "metadata": {},
   "outputs": [],
   "source": [
    "replicate = replicate.Client(api_token=REPLICATE_API_TOKEN)"
   ]
  },
  {
   "cell_type": "code",
   "execution_count": 10,
   "metadata": {},
   "outputs": [
    {
     "ename": "ModelError",
     "evalue": "ERROR: Signature extraction failed: Traceback (most recent call last):\n  File \"/root/.pyenv/versions/3.10.13/lib/python3.10/site-packages/youtube_dl/extractor/youtube.py\", line 1587, in _decrypt_signature\n    func = self._extract_signature_function(\n  File \"/root/.pyenv/versions/3.10.13/lib/python3.10/site-packages/youtube_dl/extractor/youtube.py\", line 1507, in _extract_signature_function\n    res = self._parse_sig_js(code)\n  File \"/root/.pyenv/versions/3.10.13/lib/python3.10/site-packages/youtube_dl/extractor/youtube.py\", line 1574, in _parse_sig_js\n    initial_function = jsi.extract_function(funcname)\n  File \"/root/.pyenv/versions/3.10.13/lib/python3.10/site-packages/youtube_dl/jsinterp.py\", line 1009, in extract_function\n    self.extract_function_from_code(*self.extract_function_code(funcname)),\n  File \"/root/.pyenv/versions/3.10.13/lib/python3.10/site-packages/youtube_dl/jsinterp.py\", line 1003, in extract_function_code\n    raise self.Exception('Could not find JS function \"{funcname}\"'.format(**locals()))\nyoutube_dl.jsinterp.JSInterpreter.Exception: Could not find JS function \"decodeURIComponent\"; please report this issue on https://yt-dl.org/bug . Make sure you are using the latest version; see  https://yt-dl.org/update  on how to update. Be sure to call youtube-dl with the --verbose flag and include its complete output.\n (caused by Exception('Could not find JS function \"decodeURIComponent\"; please report this issue on https://yt-dl.org/bug . Make sure you are using the latest version; see  https://yt-dl.org/update  on how to update. Be sure to call youtube-dl with the --verbose flag and include its complete output.')); please report this issue on https://yt-dl.org/bug . Make sure you are using the latest version; see  https://yt-dl.org/update  on how to update. Be sure to call youtube-dl with the --verbose flag and include its complete output.",
     "output_type": "error",
     "traceback": [
      "\u001b[0;31m---------------------------------------------------------------------------\u001b[0m",
      "\u001b[0;31mModelError\u001b[0m                                Traceback (most recent call last)",
      "Cell \u001b[0;32mIn[10], line 1\u001b[0m\n\u001b[0;32m----> 1\u001b[0m output \u001b[38;5;241m=\u001b[39m \u001b[43mreplicate\u001b[49m\u001b[38;5;241;43m.\u001b[39;49m\u001b[43mrun\u001b[49m\u001b[43m(\u001b[49m\n\u001b[1;32m      2\u001b[0m \u001b[43m    \u001b[49m\u001b[38;5;124;43m\"\u001b[39;49m\u001b[38;5;124;43mmtg/maest:170cfd0b56fb97ed732c815431e52546efac47b8a2b0096d58dd40b099191e01\u001b[39;49m\u001b[38;5;124;43m\"\u001b[39;49m\u001b[43m,\u001b[49m\n\u001b[1;32m      3\u001b[0m \u001b[43m    \u001b[49m\u001b[38;5;28;43minput\u001b[39;49m\u001b[38;5;241;43m=\u001b[39;49m\u001b[43m{\u001b[49m\n\u001b[1;32m      4\u001b[0m \u001b[43m        \u001b[49m\u001b[38;5;124;43m\"\u001b[39;49m\u001b[38;5;124;43murl\u001b[39;49m\u001b[38;5;124;43m\"\u001b[39;49m\u001b[43m:\u001b[49m\u001b[43m \u001b[49m\u001b[38;5;124;43m\"\u001b[39;49m\u001b[38;5;124;43mhttps://www.youtube.com/watch?v=LclGelDVnac\u001b[39;49m\u001b[38;5;124;43m\"\u001b[39;49m\u001b[43m,\u001b[49m\n\u001b[1;32m      5\u001b[0m \u001b[43m        \u001b[49m\u001b[38;5;124;43m\"\u001b[39;49m\u001b[38;5;124;43mtop_n\u001b[39;49m\u001b[38;5;124;43m\"\u001b[39;49m\u001b[43m:\u001b[49m\u001b[43m \u001b[49m\u001b[38;5;241;43m10\u001b[39;49m\u001b[43m,\u001b[49m\n\u001b[1;32m      6\u001b[0m \u001b[43m        \u001b[49m\u001b[38;5;124;43m\"\u001b[39;49m\u001b[38;5;124;43moutput_format\u001b[39;49m\u001b[38;5;124;43m\"\u001b[39;49m\u001b[43m:\u001b[49m\u001b[43m \u001b[49m\u001b[38;5;124;43m\"\u001b[39;49m\u001b[38;5;124;43mVisualization\u001b[39;49m\u001b[38;5;124;43m\"\u001b[39;49m\n\u001b[1;32m      7\u001b[0m \u001b[43m    \u001b[49m\u001b[43m}\u001b[49m\n\u001b[1;32m      8\u001b[0m \u001b[43m)\u001b[49m\n\u001b[1;32m      9\u001b[0m \u001b[38;5;28mprint\u001b[39m(output)\n",
      "File \u001b[0;32m~/opt/anaconda3/envs/capstone/lib/python3.13/site-packages/replicate/client.py:175\u001b[0m, in \u001b[0;36mClient.run\u001b[0;34m(self, ref, input, use_file_output, **params)\u001b[0m\n\u001b[1;32m    163\u001b[0m \u001b[38;5;28;01mdef\u001b[39;00m\u001b[38;5;250m \u001b[39m\u001b[38;5;21mrun\u001b[39m(\n\u001b[1;32m    164\u001b[0m     \u001b[38;5;28mself\u001b[39m,\n\u001b[1;32m    165\u001b[0m     ref: \u001b[38;5;28mstr\u001b[39m,\n\u001b[0;32m   (...)\u001b[0m\n\u001b[1;32m    169\u001b[0m     \u001b[38;5;241m*\u001b[39m\u001b[38;5;241m*\u001b[39mparams: Unpack[\u001b[38;5;124m\"\u001b[39m\u001b[38;5;124mPredictions.CreatePredictionParams\u001b[39m\u001b[38;5;124m\"\u001b[39m],\n\u001b[1;32m    170\u001b[0m ) \u001b[38;5;241m-\u001b[39m\u001b[38;5;241m>\u001b[39m Union[Any, Iterator[Any]]:  \u001b[38;5;66;03m# noqa: ANN401\u001b[39;00m\n\u001b[1;32m    171\u001b[0m \u001b[38;5;250m    \u001b[39m\u001b[38;5;124;03m\"\"\"\u001b[39;00m\n\u001b[1;32m    172\u001b[0m \u001b[38;5;124;03m    Run a model and wait for its output.\u001b[39;00m\n\u001b[1;32m    173\u001b[0m \u001b[38;5;124;03m    \"\"\"\u001b[39;00m\n\u001b[0;32m--> 175\u001b[0m     \u001b[38;5;28;01mreturn\u001b[39;00m \u001b[43mrun\u001b[49m\u001b[43m(\u001b[49m\u001b[38;5;28;43mself\u001b[39;49m\u001b[43m,\u001b[49m\u001b[43m \u001b[49m\u001b[43mref\u001b[49m\u001b[43m,\u001b[49m\u001b[43m \u001b[49m\u001b[38;5;28;43minput\u001b[39;49m\u001b[43m,\u001b[49m\u001b[43m \u001b[49m\u001b[43muse_file_output\u001b[49m\u001b[38;5;241;43m=\u001b[39;49m\u001b[43muse_file_output\u001b[49m\u001b[43m,\u001b[49m\u001b[43m \u001b[49m\u001b[38;5;241;43m*\u001b[39;49m\u001b[38;5;241;43m*\u001b[39;49m\u001b[43mparams\u001b[49m\u001b[43m)\u001b[49m\n",
      "File \u001b[0;32m~/opt/anaconda3/envs/capstone/lib/python3.13/site-packages/replicate/run.py:81\u001b[0m, in \u001b[0;36mrun\u001b[0;34m(client, ref, input, use_file_output, **params)\u001b[0m\n\u001b[1;32m     78\u001b[0m     prediction\u001b[38;5;241m.\u001b[39mwait()\n\u001b[1;32m     80\u001b[0m \u001b[38;5;28;01mif\u001b[39;00m prediction\u001b[38;5;241m.\u001b[39mstatus \u001b[38;5;241m==\u001b[39m \u001b[38;5;124m\"\u001b[39m\u001b[38;5;124mfailed\u001b[39m\u001b[38;5;124m\"\u001b[39m:\n\u001b[0;32m---> 81\u001b[0m     \u001b[38;5;28;01mraise\u001b[39;00m ModelError(prediction)\n\u001b[1;32m     83\u001b[0m \u001b[38;5;66;03m# Return an iterator for the completed prediction when needed.\u001b[39;00m\n\u001b[1;32m     84\u001b[0m \u001b[38;5;28;01mif\u001b[39;00m (\n\u001b[1;32m     85\u001b[0m     version\n\u001b[1;32m     86\u001b[0m     \u001b[38;5;129;01mand\u001b[39;00m _has_output_iterator_array_type(version)\n\u001b[1;32m     87\u001b[0m     \u001b[38;5;129;01mand\u001b[39;00m prediction\u001b[38;5;241m.\u001b[39moutput \u001b[38;5;129;01mis\u001b[39;00m \u001b[38;5;129;01mnot\u001b[39;00m \u001b[38;5;28;01mNone\u001b[39;00m\n\u001b[1;32m     88\u001b[0m ):\n",
      "\u001b[0;31mModelError\u001b[0m: ERROR: Signature extraction failed: Traceback (most recent call last):\n  File \"/root/.pyenv/versions/3.10.13/lib/python3.10/site-packages/youtube_dl/extractor/youtube.py\", line 1587, in _decrypt_signature\n    func = self._extract_signature_function(\n  File \"/root/.pyenv/versions/3.10.13/lib/python3.10/site-packages/youtube_dl/extractor/youtube.py\", line 1507, in _extract_signature_function\n    res = self._parse_sig_js(code)\n  File \"/root/.pyenv/versions/3.10.13/lib/python3.10/site-packages/youtube_dl/extractor/youtube.py\", line 1574, in _parse_sig_js\n    initial_function = jsi.extract_function(funcname)\n  File \"/root/.pyenv/versions/3.10.13/lib/python3.10/site-packages/youtube_dl/jsinterp.py\", line 1009, in extract_function\n    self.extract_function_from_code(*self.extract_function_code(funcname)),\n  File \"/root/.pyenv/versions/3.10.13/lib/python3.10/site-packages/youtube_dl/jsinterp.py\", line 1003, in extract_function_code\n    raise self.Exception('Could not find JS function \"{funcname}\"'.format(**locals()))\nyoutube_dl.jsinterp.JSInterpreter.Exception: Could not find JS function \"decodeURIComponent\"; please report this issue on https://yt-dl.org/bug . Make sure you are using the latest version; see  https://yt-dl.org/update  on how to update. Be sure to call youtube-dl with the --verbose flag and include its complete output.\n (caused by Exception('Could not find JS function \"decodeURIComponent\"; please report this issue on https://yt-dl.org/bug . Make sure you are using the latest version; see  https://yt-dl.org/update  on how to update. Be sure to call youtube-dl with the --verbose flag and include its complete output.')); please report this issue on https://yt-dl.org/bug . Make sure you are using the latest version; see  https://yt-dl.org/update  on how to update. Be sure to call youtube-dl with the --verbose flag and include its complete output."
     ]
    }
   ],
   "source": [
    "output = replicate.run(\n",
    "    \"mtg/maest:170cfd0b56fb97ed732c815431e52546efac47b8a2b0096d58dd40b099191e01\",\n",
    "    input={\n",
    "        \"url\": \"https://www.youtube.com/watch?v=LclGelDVnac\",\n",
    "        \"top_n\": 10,\n",
    "        \"output_format\": \"Visualization\"\n",
    "    }\n",
    ")\n",
    "print(output)"
   ]
  },
  {
   "cell_type": "code",
   "execution_count": null,
   "metadata": {},
   "outputs": [],
   "source": []
  }
 ],
 "metadata": {
  "kernelspec": {
   "display_name": "capstone",
   "language": "python",
   "name": "python3"
  },
  "language_info": {
   "codemirror_mode": {
    "name": "ipython",
    "version": 3
   },
   "file_extension": ".py",
   "mimetype": "text/x-python",
   "name": "python",
   "nbconvert_exporter": "python",
   "pygments_lexer": "ipython3",
   "version": "3.13.1"
  }
 },
 "nbformat": 4,
 "nbformat_minor": 2
}
